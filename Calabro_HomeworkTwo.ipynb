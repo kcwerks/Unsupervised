{
 "metadata": {
  "language_info": {
   "codemirror_mode": {
    "name": "ipython",
    "version": 3
   },
   "file_extension": ".py",
   "mimetype": "text/x-python",
   "name": "python",
   "nbconvert_exporter": "python",
   "pygments_lexer": "ipython3",
   "version": "3.7.7-final"
  },
  "orig_nbformat": 2,
  "kernelspec": {
   "name": "python3",
   "display_name": "Python 3",
   "language": "python"
  }
 },
 "nbformat": 4,
 "nbformat_minor": 2,
 "cells": [
  {
   "source": [
    "## Kyle Calabro\n",
    "## Dr. Tweneboah\n",
    "## CMPS 620 - Homework Two: Part B\n",
    "## 5 March 2021\n",
    "-----"
   ],
   "cell_type": "markdown",
   "metadata": {}
  },
  {
   "cell_type": "code",
   "execution_count": 4,
   "metadata": {},
   "outputs": [],
   "source": [
    "import pandas as pd\n",
    "\n",
    "from mlxtend.frequent_patterns import apriori\n",
    "from mlxtend.frequent_patterns import association_rules\n",
    "from mlxtend.preprocessing import TransactionEncoder"
   ]
  },
  {
   "source": [
    "## Part One: Create Nested List of the Words in Each Line of the File"
   ],
   "cell_type": "markdown",
   "metadata": {}
  },
  {
   "cell_type": "code",
   "execution_count": 3,
   "metadata": {
    "tags": []
   },
   "outputs": [],
   "source": [
    "words_list = []\n",
    "\n",
    "with open(\"bible.txt\", \"r\") as bible_file:\n",
    "    for line in bible_file:\n",
    "        words_list.append(line.split())"
   ]
  },
  {
   "source": [
    "## Part Two: Generating Frequent Itemsets:\n",
    "### a) Transform the data via the TransactionEncoder "
   ],
   "cell_type": "markdown",
   "metadata": {}
  },
  {
   "cell_type": "code",
   "execution_count": 7,
   "metadata": {},
   "outputs": [
    {
     "output_type": "execute_result",
     "data": {
      "text/plain": [
       "       aaron  aaron's  aaronites  abaddon  abagtha  abana  abarim  abase  \\\n",
       "0      False    False      False    False    False  False   False  False   \n",
       "1      False    False      False    False    False  False   False  False   \n",
       "2      False    False      False    False    False  False   False  False   \n",
       "3      False    False      False    False    False  False   False  False   \n",
       "4      False    False      False    False    False  False   False  False   \n",
       "...      ...      ...        ...      ...      ...    ...     ...    ...   \n",
       "31096  False    False      False    False    False  False   False  False   \n",
       "31097  False    False      False    False    False  False   False  False   \n",
       "31098  False    False      False    False    False  False   False  False   \n",
       "31099  False    False      False    False    False  False   False  False   \n",
       "31100  False    False      False    False    False  False   False  False   \n",
       "\n",
       "       abased  abasing  ...  zorathites  zoreah  zorites  zorobabel   zuar  \\\n",
       "0       False    False  ...       False   False    False      False  False   \n",
       "1       False    False  ...       False   False    False      False  False   \n",
       "2       False    False  ...       False   False    False      False  False   \n",
       "3       False    False  ...       False   False    False      False  False   \n",
       "4       False    False  ...       False   False    False      False  False   \n",
       "...       ...      ...  ...         ...     ...      ...        ...    ...   \n",
       "31096   False    False  ...       False   False    False      False  False   \n",
       "31097   False    False  ...       False   False    False      False  False   \n",
       "31098   False    False  ...       False   False    False      False  False   \n",
       "31099   False    False  ...       False   False    False      False  False   \n",
       "31100   False    False  ...       False   False    False      False  False   \n",
       "\n",
       "        zuph    zur  zuriel  zurishaddai  zuzims  \n",
       "0      False  False   False        False   False  \n",
       "1      False  False   False        False   False  \n",
       "2      False  False   False        False   False  \n",
       "3      False  False   False        False   False  \n",
       "4      False  False   False        False   False  \n",
       "...      ...    ...     ...          ...     ...  \n",
       "31096  False  False   False        False   False  \n",
       "31097  False  False   False        False   False  \n",
       "31098  False  False   False        False   False  \n",
       "31099  False  False   False        False   False  \n",
       "31100  False  False   False        False   False  \n",
       "\n",
       "[31101 rows x 12767 columns]"
      ],
      "text/html": "<div>\n<style scoped>\n    .dataframe tbody tr th:only-of-type {\n        vertical-align: middle;\n    }\n\n    .dataframe tbody tr th {\n        vertical-align: top;\n    }\n\n    .dataframe thead th {\n        text-align: right;\n    }\n</style>\n<table border=\"1\" class=\"dataframe\">\n  <thead>\n    <tr style=\"text-align: right;\">\n      <th></th>\n      <th>aaron</th>\n      <th>aaron's</th>\n      <th>aaronites</th>\n      <th>abaddon</th>\n      <th>abagtha</th>\n      <th>abana</th>\n      <th>abarim</th>\n      <th>abase</th>\n      <th>abased</th>\n      <th>abasing</th>\n      <th>...</th>\n      <th>zorathites</th>\n      <th>zoreah</th>\n      <th>zorites</th>\n      <th>zorobabel</th>\n      <th>zuar</th>\n      <th>zuph</th>\n      <th>zur</th>\n      <th>zuriel</th>\n      <th>zurishaddai</th>\n      <th>zuzims</th>\n    </tr>\n  </thead>\n  <tbody>\n    <tr>\n      <th>0</th>\n      <td>False</td>\n      <td>False</td>\n      <td>False</td>\n      <td>False</td>\n      <td>False</td>\n      <td>False</td>\n      <td>False</td>\n      <td>False</td>\n      <td>False</td>\n      <td>False</td>\n      <td>...</td>\n      <td>False</td>\n      <td>False</td>\n      <td>False</td>\n      <td>False</td>\n      <td>False</td>\n      <td>False</td>\n      <td>False</td>\n      <td>False</td>\n      <td>False</td>\n      <td>False</td>\n    </tr>\n    <tr>\n      <th>1</th>\n      <td>False</td>\n      <td>False</td>\n      <td>False</td>\n      <td>False</td>\n      <td>False</td>\n      <td>False</td>\n      <td>False</td>\n      <td>False</td>\n      <td>False</td>\n      <td>False</td>\n      <td>...</td>\n      <td>False</td>\n      <td>False</td>\n      <td>False</td>\n      <td>False</td>\n      <td>False</td>\n      <td>False</td>\n      <td>False</td>\n      <td>False</td>\n      <td>False</td>\n      <td>False</td>\n    </tr>\n    <tr>\n      <th>2</th>\n      <td>False</td>\n      <td>False</td>\n      <td>False</td>\n      <td>False</td>\n      <td>False</td>\n      <td>False</td>\n      <td>False</td>\n      <td>False</td>\n      <td>False</td>\n      <td>False</td>\n      <td>...</td>\n      <td>False</td>\n      <td>False</td>\n      <td>False</td>\n      <td>False</td>\n      <td>False</td>\n      <td>False</td>\n      <td>False</td>\n      <td>False</td>\n      <td>False</td>\n      <td>False</td>\n    </tr>\n    <tr>\n      <th>3</th>\n      <td>False</td>\n      <td>False</td>\n      <td>False</td>\n      <td>False</td>\n      <td>False</td>\n      <td>False</td>\n      <td>False</td>\n      <td>False</td>\n      <td>False</td>\n      <td>False</td>\n      <td>...</td>\n      <td>False</td>\n      <td>False</td>\n      <td>False</td>\n      <td>False</td>\n      <td>False</td>\n      <td>False</td>\n      <td>False</td>\n      <td>False</td>\n      <td>False</td>\n      <td>False</td>\n    </tr>\n    <tr>\n      <th>4</th>\n      <td>False</td>\n      <td>False</td>\n      <td>False</td>\n      <td>False</td>\n      <td>False</td>\n      <td>False</td>\n      <td>False</td>\n      <td>False</td>\n      <td>False</td>\n      <td>False</td>\n      <td>...</td>\n      <td>False</td>\n      <td>False</td>\n      <td>False</td>\n      <td>False</td>\n      <td>False</td>\n      <td>False</td>\n      <td>False</td>\n      <td>False</td>\n      <td>False</td>\n      <td>False</td>\n    </tr>\n    <tr>\n      <th>...</th>\n      <td>...</td>\n      <td>...</td>\n      <td>...</td>\n      <td>...</td>\n      <td>...</td>\n      <td>...</td>\n      <td>...</td>\n      <td>...</td>\n      <td>...</td>\n      <td>...</td>\n      <td>...</td>\n      <td>...</td>\n      <td>...</td>\n      <td>...</td>\n      <td>...</td>\n      <td>...</td>\n      <td>...</td>\n      <td>...</td>\n      <td>...</td>\n      <td>...</td>\n      <td>...</td>\n    </tr>\n    <tr>\n      <th>31096</th>\n      <td>False</td>\n      <td>False</td>\n      <td>False</td>\n      <td>False</td>\n      <td>False</td>\n      <td>False</td>\n      <td>False</td>\n      <td>False</td>\n      <td>False</td>\n      <td>False</td>\n      <td>...</td>\n      <td>False</td>\n      <td>False</td>\n      <td>False</td>\n      <td>False</td>\n      <td>False</td>\n      <td>False</td>\n      <td>False</td>\n      <td>False</td>\n      <td>False</td>\n      <td>False</td>\n    </tr>\n    <tr>\n      <th>31097</th>\n      <td>False</td>\n      <td>False</td>\n      <td>False</td>\n      <td>False</td>\n      <td>False</td>\n      <td>False</td>\n      <td>False</td>\n      <td>False</td>\n      <td>False</td>\n      <td>False</td>\n      <td>...</td>\n      <td>False</td>\n      <td>False</td>\n      <td>False</td>\n      <td>False</td>\n      <td>False</td>\n      <td>False</td>\n      <td>False</td>\n      <td>False</td>\n      <td>False</td>\n      <td>False</td>\n    </tr>\n    <tr>\n      <th>31098</th>\n      <td>False</td>\n      <td>False</td>\n      <td>False</td>\n      <td>False</td>\n      <td>False</td>\n      <td>False</td>\n      <td>False</td>\n      <td>False</td>\n      <td>False</td>\n      <td>False</td>\n      <td>...</td>\n      <td>False</td>\n      <td>False</td>\n      <td>False</td>\n      <td>False</td>\n      <td>False</td>\n      <td>False</td>\n      <td>False</td>\n      <td>False</td>\n      <td>False</td>\n      <td>False</td>\n    </tr>\n    <tr>\n      <th>31099</th>\n      <td>False</td>\n      <td>False</td>\n      <td>False</td>\n      <td>False</td>\n      <td>False</td>\n      <td>False</td>\n      <td>False</td>\n      <td>False</td>\n      <td>False</td>\n      <td>False</td>\n      <td>...</td>\n      <td>False</td>\n      <td>False</td>\n      <td>False</td>\n      <td>False</td>\n      <td>False</td>\n      <td>False</td>\n      <td>False</td>\n      <td>False</td>\n      <td>False</td>\n      <td>False</td>\n    </tr>\n    <tr>\n      <th>31100</th>\n      <td>False</td>\n      <td>False</td>\n      <td>False</td>\n      <td>False</td>\n      <td>False</td>\n      <td>False</td>\n      <td>False</td>\n      <td>False</td>\n      <td>False</td>\n      <td>False</td>\n      <td>...</td>\n      <td>False</td>\n      <td>False</td>\n      <td>False</td>\n      <td>False</td>\n      <td>False</td>\n      <td>False</td>\n      <td>False</td>\n      <td>False</td>\n      <td>False</td>\n      <td>False</td>\n    </tr>\n  </tbody>\n</table>\n<p>31101 rows × 12767 columns</p>\n</div>"
     },
     "metadata": {},
     "execution_count": 7
    }
   ],
   "source": [
    "te = TransactionEncoder()\n",
    "te_array = te.fit(words_list).transform(words_list)\n",
    "\n",
    "te_df = pd.DataFrame(te_array, columns = te.columns_)\n",
    "te_df"
   ]
  },
  {
   "source": [
    "### b) Build the frequent itemsets via apriori and return the itemsets with at least .01 support"
   ],
   "cell_type": "markdown",
   "metadata": {}
  },
  {
   "cell_type": "code",
   "execution_count": 16,
   "metadata": {},
   "outputs": [],
   "source": [
    "frequent_itemsets = apriori(te_df, min_support = 0.01, use_colnames = True)"
   ]
  },
  {
   "cell_type": "code",
   "execution_count": 17,
   "metadata": {},
   "outputs": [
    {
     "output_type": "execute_result",
     "data": {
      "text/plain": [
       "      support             itemsets\n",
       "0    0.019099              (about)\n",
       "1    0.022990          (according)\n",
       "2    0.035176              (after)\n",
       "3    0.020932              (again)\n",
       "4    0.044693            (against)\n",
       "..        ...                  ...\n",
       "351  0.013537    (lord, thy, thee)\n",
       "352  0.015305    (lord, thy, thou)\n",
       "353  0.012701  (shalt, thou, thee)\n",
       "354  0.015144   (shalt, thou, thy)\n",
       "355  0.017684    (thy, thou, thee)\n",
       "\n",
       "[356 rows x 2 columns]"
      ],
      "text/html": "<div>\n<style scoped>\n    .dataframe tbody tr th:only-of-type {\n        vertical-align: middle;\n    }\n\n    .dataframe tbody tr th {\n        vertical-align: top;\n    }\n\n    .dataframe thead th {\n        text-align: right;\n    }\n</style>\n<table border=\"1\" class=\"dataframe\">\n  <thead>\n    <tr style=\"text-align: right;\">\n      <th></th>\n      <th>support</th>\n      <th>itemsets</th>\n    </tr>\n  </thead>\n  <tbody>\n    <tr>\n      <th>0</th>\n      <td>0.019099</td>\n      <td>(about)</td>\n    </tr>\n    <tr>\n      <th>1</th>\n      <td>0.022990</td>\n      <td>(according)</td>\n    </tr>\n    <tr>\n      <th>2</th>\n      <td>0.035176</td>\n      <td>(after)</td>\n    </tr>\n    <tr>\n      <th>3</th>\n      <td>0.020932</td>\n      <td>(again)</td>\n    </tr>\n    <tr>\n      <th>4</th>\n      <td>0.044693</td>\n      <td>(against)</td>\n    </tr>\n    <tr>\n      <th>...</th>\n      <td>...</td>\n      <td>...</td>\n    </tr>\n    <tr>\n      <th>351</th>\n      <td>0.013537</td>\n      <td>(lord, thy, thee)</td>\n    </tr>\n    <tr>\n      <th>352</th>\n      <td>0.015305</td>\n      <td>(lord, thy, thou)</td>\n    </tr>\n    <tr>\n      <th>353</th>\n      <td>0.012701</td>\n      <td>(shalt, thou, thee)</td>\n    </tr>\n    <tr>\n      <th>354</th>\n      <td>0.015144</td>\n      <td>(shalt, thou, thy)</td>\n    </tr>\n    <tr>\n      <th>355</th>\n      <td>0.017684</td>\n      <td>(thy, thou, thee)</td>\n    </tr>\n  </tbody>\n</table>\n<p>356 rows × 2 columns</p>\n</div>"
     },
     "metadata": {},
     "execution_count": 17
    }
   ],
   "source": [
    "frequent_itemsets"
   ]
  },
  {
   "source": [
    "### c) Select those frequent itemsets with at least size 2 that have support of at least 5 percent"
   ],
   "cell_type": "markdown",
   "metadata": {}
  },
  {
   "cell_type": "code",
   "execution_count": 22,
   "metadata": {},
   "outputs": [
    {
     "output_type": "execute_result",
     "data": {
      "text/plain": [
       "      support     itemsets\n",
       "256  0.051188  (lord, god)"
      ],
      "text/html": "<div>\n<style scoped>\n    .dataframe tbody tr th:only-of-type {\n        vertical-align: middle;\n    }\n\n    .dataframe tbody tr th {\n        vertical-align: top;\n    }\n\n    .dataframe thead th {\n        text-align: right;\n    }\n</style>\n<table border=\"1\" class=\"dataframe\">\n  <thead>\n    <tr style=\"text-align: right;\">\n      <th></th>\n      <th>support</th>\n      <th>itemsets</th>\n    </tr>\n  </thead>\n  <tbody>\n    <tr>\n      <th>256</th>\n      <td>0.051188</td>\n      <td>(lord, god)</td>\n    </tr>\n  </tbody>\n</table>\n</div>"
     },
     "metadata": {},
     "execution_count": 22
    }
   ],
   "source": [
    "filtered_itemsets = frequent_itemsets[(frequent_itemsets[\"support\"] >= .05) & (frequent_itemsets[\"itemsets\"].str.len() >= 2)]\n",
    "filtered_itemsets"
   ]
  },
  {
   "source": [
    "From the above output we can see that only one itemset exhibits a support of at least .05 with more than one item. The itemset is (lord, god). Given that support is an indication of how frequently the itemset appears in the dataset this result makes a lot of sense being that we are examining the King James Bible. Essentially, this result is telling us that the itemset (lord, god) appears in five percent of all transactions."
   ],
   "cell_type": "markdown",
   "metadata": {}
  },
  {
   "source": [
    "## Part Three: Association Rules\n",
    "### a) Create the rules with their corresponding support, confidence, and lift. Use \"lift\" and min_threshold = 1."
   ],
   "cell_type": "markdown",
   "metadata": {}
  },
  {
   "cell_type": "code",
   "execution_count": 23,
   "metadata": {},
   "outputs": [
    {
     "output_type": "execute_result",
     "data": {
      "text/plain": [
       "  antecedents consequents  antecedent support  consequent support   support  \\\n",
       "0      (lord)   (against)            0.214366            0.044693  0.013119   \n",
       "1   (against)      (lord)            0.044693            0.214366  0.013119   \n",
       "2        (am)      (lord)            0.026076            0.214366  0.010578   \n",
       "3      (lord)        (am)            0.214366            0.026076  0.010578   \n",
       "4      (said)  (answered)            0.115816            0.015755  0.010675   \n",
       "\n",
       "   confidence      lift  leverage  conviction  \n",
       "0    0.061197  1.369271  0.003538    1.017580  \n",
       "1    0.293525  1.369271  0.003538    1.112048  \n",
       "2    0.405672  1.892426  0.004989    1.321886  \n",
       "3    0.049348  1.892426  0.004989    1.024479  \n",
       "4    0.092171  5.850226  0.008850    1.084174  "
      ],
      "text/html": "<div>\n<style scoped>\n    .dataframe tbody tr th:only-of-type {\n        vertical-align: middle;\n    }\n\n    .dataframe tbody tr th {\n        vertical-align: top;\n    }\n\n    .dataframe thead th {\n        text-align: right;\n    }\n</style>\n<table border=\"1\" class=\"dataframe\">\n  <thead>\n    <tr style=\"text-align: right;\">\n      <th></th>\n      <th>antecedents</th>\n      <th>consequents</th>\n      <th>antecedent support</th>\n      <th>consequent support</th>\n      <th>support</th>\n      <th>confidence</th>\n      <th>lift</th>\n      <th>leverage</th>\n      <th>conviction</th>\n    </tr>\n  </thead>\n  <tbody>\n    <tr>\n      <th>0</th>\n      <td>(lord)</td>\n      <td>(against)</td>\n      <td>0.214366</td>\n      <td>0.044693</td>\n      <td>0.013119</td>\n      <td>0.061197</td>\n      <td>1.369271</td>\n      <td>0.003538</td>\n      <td>1.017580</td>\n    </tr>\n    <tr>\n      <th>1</th>\n      <td>(against)</td>\n      <td>(lord)</td>\n      <td>0.044693</td>\n      <td>0.214366</td>\n      <td>0.013119</td>\n      <td>0.293525</td>\n      <td>1.369271</td>\n      <td>0.003538</td>\n      <td>1.112048</td>\n    </tr>\n    <tr>\n      <th>2</th>\n      <td>(am)</td>\n      <td>(lord)</td>\n      <td>0.026076</td>\n      <td>0.214366</td>\n      <td>0.010578</td>\n      <td>0.405672</td>\n      <td>1.892426</td>\n      <td>0.004989</td>\n      <td>1.321886</td>\n    </tr>\n    <tr>\n      <th>3</th>\n      <td>(lord)</td>\n      <td>(am)</td>\n      <td>0.214366</td>\n      <td>0.026076</td>\n      <td>0.010578</td>\n      <td>0.049348</td>\n      <td>1.892426</td>\n      <td>0.004989</td>\n      <td>1.024479</td>\n    </tr>\n    <tr>\n      <th>4</th>\n      <td>(said)</td>\n      <td>(answered)</td>\n      <td>0.115816</td>\n      <td>0.015755</td>\n      <td>0.010675</td>\n      <td>0.092171</td>\n      <td>5.850226</td>\n      <td>0.008850</td>\n      <td>1.084174</td>\n    </tr>\n  </tbody>\n</table>\n</div>"
     },
     "metadata": {},
     "execution_count": 23
    }
   ],
   "source": [
    "rules = association_rules(frequent_itemsets, metric = \"lift\", min_threshold = 1)\n",
    "rules.head()"
   ]
  },
  {
   "source": [
    "### b) Filter the dataframe to include only those with large lift (5) and high confidence (.6)."
   ],
   "cell_type": "markdown",
   "metadata": {}
  },
  {
   "cell_type": "code",
   "execution_count": 27,
   "metadata": {},
   "outputs": [
    {
     "output_type": "execute_result",
     "data": {
      "text/plain": [
       "       antecedents    consequents  antecedent support  consequent support  \\\n",
       "5       (answered)         (said)            0.015755            0.115816   \n",
       "6            (art)         (thou)            0.014533            0.124787   \n",
       "79          (hast)         (thou)            0.027298            0.124787   \n",
       "87           (she)          (her)            0.023408            0.038359   \n",
       "181         (thus)        (saith)            0.022732            0.038488   \n",
       "184        (shalt)         (thou)            0.039034            0.124787   \n",
       "249    (thy, hast)         (thou)            0.011318            0.124787   \n",
       "261   (lord, thus)        (saith)            0.016270            0.038488   \n",
       "265         (thus)  (lord, saith)            0.022732            0.028198   \n",
       "266  (lord, shalt)         (thou)            0.012283            0.124787   \n",
       "291  (shalt, thee)         (thou)            0.012701            0.124787   \n",
       "297   (shalt, thy)         (thou)            0.015144            0.124787   \n",
       "\n",
       "      support  confidence       lift  leverage   conviction  \n",
       "5    0.010675    0.677551   5.850226  0.008850     2.742089  \n",
       "6    0.014340    0.986726   7.907280  0.012527    65.932714  \n",
       "79   0.026848    0.983510   7.881511  0.023442    53.075418  \n",
       "87   0.014083    0.601648  15.684715  0.013185     2.414051  \n",
       "181  0.014630    0.643564  16.721383  0.013755     2.697577  \n",
       "184  0.039002    0.999176   8.007055  0.034131  1062.508601  \n",
       "249  0.011029    0.974432   7.808762  0.009616    34.230554  \n",
       "261  0.013890    0.853755  22.182650  0.013264     6.574666  \n",
       "265  0.013890    0.611033  21.669011  0.013249     2.498413  \n",
       "266  0.012250    0.997382   7.992678  0.010718   334.331372  \n",
       "291  0.012701    1.000000   8.013656  0.011116          inf  \n",
       "297  0.015144    1.000000   8.013656  0.013254          inf  "
      ],
      "text/html": "<div>\n<style scoped>\n    .dataframe tbody tr th:only-of-type {\n        vertical-align: middle;\n    }\n\n    .dataframe tbody tr th {\n        vertical-align: top;\n    }\n\n    .dataframe thead th {\n        text-align: right;\n    }\n</style>\n<table border=\"1\" class=\"dataframe\">\n  <thead>\n    <tr style=\"text-align: right;\">\n      <th></th>\n      <th>antecedents</th>\n      <th>consequents</th>\n      <th>antecedent support</th>\n      <th>consequent support</th>\n      <th>support</th>\n      <th>confidence</th>\n      <th>lift</th>\n      <th>leverage</th>\n      <th>conviction</th>\n    </tr>\n  </thead>\n  <tbody>\n    <tr>\n      <th>5</th>\n      <td>(answered)</td>\n      <td>(said)</td>\n      <td>0.015755</td>\n      <td>0.115816</td>\n      <td>0.010675</td>\n      <td>0.677551</td>\n      <td>5.850226</td>\n      <td>0.008850</td>\n      <td>2.742089</td>\n    </tr>\n    <tr>\n      <th>6</th>\n      <td>(art)</td>\n      <td>(thou)</td>\n      <td>0.014533</td>\n      <td>0.124787</td>\n      <td>0.014340</td>\n      <td>0.986726</td>\n      <td>7.907280</td>\n      <td>0.012527</td>\n      <td>65.932714</td>\n    </tr>\n    <tr>\n      <th>79</th>\n      <td>(hast)</td>\n      <td>(thou)</td>\n      <td>0.027298</td>\n      <td>0.124787</td>\n      <td>0.026848</td>\n      <td>0.983510</td>\n      <td>7.881511</td>\n      <td>0.023442</td>\n      <td>53.075418</td>\n    </tr>\n    <tr>\n      <th>87</th>\n      <td>(she)</td>\n      <td>(her)</td>\n      <td>0.023408</td>\n      <td>0.038359</td>\n      <td>0.014083</td>\n      <td>0.601648</td>\n      <td>15.684715</td>\n      <td>0.013185</td>\n      <td>2.414051</td>\n    </tr>\n    <tr>\n      <th>181</th>\n      <td>(thus)</td>\n      <td>(saith)</td>\n      <td>0.022732</td>\n      <td>0.038488</td>\n      <td>0.014630</td>\n      <td>0.643564</td>\n      <td>16.721383</td>\n      <td>0.013755</td>\n      <td>2.697577</td>\n    </tr>\n    <tr>\n      <th>184</th>\n      <td>(shalt)</td>\n      <td>(thou)</td>\n      <td>0.039034</td>\n      <td>0.124787</td>\n      <td>0.039002</td>\n      <td>0.999176</td>\n      <td>8.007055</td>\n      <td>0.034131</td>\n      <td>1062.508601</td>\n    </tr>\n    <tr>\n      <th>249</th>\n      <td>(thy, hast)</td>\n      <td>(thou)</td>\n      <td>0.011318</td>\n      <td>0.124787</td>\n      <td>0.011029</td>\n      <td>0.974432</td>\n      <td>7.808762</td>\n      <td>0.009616</td>\n      <td>34.230554</td>\n    </tr>\n    <tr>\n      <th>261</th>\n      <td>(lord, thus)</td>\n      <td>(saith)</td>\n      <td>0.016270</td>\n      <td>0.038488</td>\n      <td>0.013890</td>\n      <td>0.853755</td>\n      <td>22.182650</td>\n      <td>0.013264</td>\n      <td>6.574666</td>\n    </tr>\n    <tr>\n      <th>265</th>\n      <td>(thus)</td>\n      <td>(lord, saith)</td>\n      <td>0.022732</td>\n      <td>0.028198</td>\n      <td>0.013890</td>\n      <td>0.611033</td>\n      <td>21.669011</td>\n      <td>0.013249</td>\n      <td>2.498413</td>\n    </tr>\n    <tr>\n      <th>266</th>\n      <td>(lord, shalt)</td>\n      <td>(thou)</td>\n      <td>0.012283</td>\n      <td>0.124787</td>\n      <td>0.012250</td>\n      <td>0.997382</td>\n      <td>7.992678</td>\n      <td>0.010718</td>\n      <td>334.331372</td>\n    </tr>\n    <tr>\n      <th>291</th>\n      <td>(shalt, thee)</td>\n      <td>(thou)</td>\n      <td>0.012701</td>\n      <td>0.124787</td>\n      <td>0.012701</td>\n      <td>1.000000</td>\n      <td>8.013656</td>\n      <td>0.011116</td>\n      <td>inf</td>\n    </tr>\n    <tr>\n      <th>297</th>\n      <td>(shalt, thy)</td>\n      <td>(thou)</td>\n      <td>0.015144</td>\n      <td>0.124787</td>\n      <td>0.015144</td>\n      <td>1.000000</td>\n      <td>8.013656</td>\n      <td>0.013254</td>\n      <td>inf</td>\n    </tr>\n  </tbody>\n</table>\n</div>"
     },
     "metadata": {},
     "execution_count": 27
    }
   ],
   "source": [
    "filtered_rules = rules[(rules[\"lift\"] >= 5) & (rules[\"confidence\"] >= 0.6)]\n",
    "filtered_rules"
   ]
  },
  {
   "source": [
    "From the above output, we observe that there are two rules that exhibit a perfect confidence score of 1.0 and in turn, infinite conviction. These rules are (shalt, thee) implies (thou) and (shalt, thy) implies (thou). This indicates that for these two rules, the consequent and antecedent will always occur together. The rules (shalt) implies (thou) and (lord, shalt) implies (thou) also exhibit very large confidence values above .99 indicating that the consequents and antecedents in these rules almost always occur together. It is important to note however that, while all of these rules exhibit high confidence and lift, with widely ranging conviction values, these rules also all exhibit relatively low values of support with the highest being .039, so these results should perhaps be taken with some caution."
   ],
   "cell_type": "markdown",
   "metadata": {}
  },
  {
   "source": [
    "### c) Conviction and the Problems with Confidence and Lift"
   ],
   "cell_type": "markdown",
   "metadata": {}
  },
  {
   "source": [
    "Confidence suffers from the issue that the confidence for an association rule having a very frequent consequent will always be high. Lift suffers from issues in that it is susceptible to noise in small databases, rare itemsets with low counts which by chance occur a fdew times can produce very large lift values. The conviction measure avoids the problems associated with the confidence and lift measures as the conviction measure compares the probability that A appears without B if they were dependent with the actual frequency of the appearance A without B. Conviction is, therefore, a directed measure that is monotone in confidence and lift.  "
   ],
   "cell_type": "markdown",
   "metadata": {}
  }
 ]
}